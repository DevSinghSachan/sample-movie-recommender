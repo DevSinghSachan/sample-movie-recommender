{
 "cells": [
  {
   "cell_type": "code",
   "execution_count": 3,
   "metadata": {
    "collapsed": true
   },
   "outputs": [],
   "source": [
    "import graphlab as gl"
   ]
  },
  {
   "cell_type": "markdown",
   "metadata": {},
   "source": [
    "# Load Data\n",
    "\n",
    "MovieLens dataset collected by the GroupLens Research Project at the University of Minnesota.\n",
    "For more information, see http://grouplens.org/datasets/movielens/"
   ]
  },
  {
   "cell_type": "code",
   "execution_count": 4,
   "metadata": {
    "collapsed": false
   },
   "outputs": [
    {
     "data": {
      "text/html": [
       "<pre>Finished parsing file /Users/michael/Documents/dato-samples/datasets/ml-20m/items.csv</pre>"
      ],
      "text/plain": [
       "Finished parsing file /Users/michael/Documents/dato-samples/datasets/ml-20m/items.csv"
      ]
     },
     "metadata": {},
     "output_type": "display_data"
    },
    {
     "data": {
      "text/html": [
       "<pre>Parsing completed. Parsed 100 lines in 0.127095 secs.</pre>"
      ],
      "text/plain": [
       "Parsing completed. Parsed 100 lines in 0.127095 secs."
      ]
     },
     "metadata": {},
     "output_type": "display_data"
    },
    {
     "data": {
      "text/html": [
       "<pre>Finished parsing file /Users/michael/Documents/dato-samples/datasets/ml-20m/items.csv</pre>"
      ],
      "text/plain": [
       "Finished parsing file /Users/michael/Documents/dato-samples/datasets/ml-20m/items.csv"
      ]
     },
     "metadata": {},
     "output_type": "display_data"
    },
    {
     "data": {
      "text/html": [
       "<pre>Parsing completed. Parsed 26863 lines in 0.095261 secs.</pre>"
      ],
      "text/plain": [
       "Parsing completed. Parsed 26863 lines in 0.095261 secs."
      ]
     },
     "metadata": {},
     "output_type": "display_data"
    },
    {
     "data": {
      "text/html": [
       "<pre>Finished parsing file /Users/michael/Documents/dato-samples/datasets/ml-20m/ratings.csv</pre>"
      ],
      "text/plain": [
       "Finished parsing file /Users/michael/Documents/dato-samples/datasets/ml-20m/ratings.csv"
      ]
     },
     "metadata": {},
     "output_type": "display_data"
    },
    {
     "data": {
      "text/html": [
       "<pre>Parsing completed. Parsed 100 lines in 0.512096 secs.</pre>"
      ],
      "text/plain": [
       "Parsing completed. Parsed 100 lines in 0.512096 secs."
      ]
     },
     "metadata": {},
     "output_type": "display_data"
    },
    {
     "name": "stdout",
     "output_type": "stream",
     "text": [
      "------------------------------------------------------\n",
      "Inferred types from first line of file as \n",
      "column_type_hints=[int,str,str,int,int,str]\n",
      "If parsing fails due to incorrect types, you can correct\n",
      "the inferred type list above and pass it to read_csv in\n",
      "the column_type_hints argument\n",
      "------------------------------------------------------\n",
      "------------------------------------------------------"
     ]
    },
    {
     "data": {
      "text/html": [
       "<pre>Finished parsing file /Users/michael/Documents/dato-samples/datasets/ml-20m/ratings.csv</pre>"
      ],
      "text/plain": [
       "Finished parsing file /Users/michael/Documents/dato-samples/datasets/ml-20m/ratings.csv"
      ]
     },
     "metadata": {},
     "output_type": "display_data"
    },
    {
     "data": {
      "text/html": [
       "<pre>Parsing completed. Parsed 999999 lines in 0.71081 secs.</pre>"
      ],
      "text/plain": [
       "Parsing completed. Parsed 999999 lines in 0.71081 secs."
      ]
     },
     "metadata": {},
     "output_type": "display_data"
    },
    {
     "name": "stdout",
     "output_type": "stream",
     "text": [
      "\n",
      "Inferred types from first line of file as \n",
      "column_type_hints=[int,int,float,int]\n",
      "If parsing fails due to incorrect types, you can correct\n",
      "the inferred type list above and pass it to read_csv in\n",
      "the column_type_hints argument\n",
      "------------------------------------------------------\n"
     ]
    }
   ],
   "source": [
    "# Table of movies we are recommending: movieId, title, genres\n",
    "items = gl.SFrame.read_csv('../../datasets/ml-20m/items.csv')\n",
    "# Table of user actions on items: userId, movieId, rating, timestamp\n",
    "actions = gl.SFrame.read_csv('../../datasets/ml-20m/ratings.csv')"
   ]
  },
  {
   "cell_type": "markdown",
   "metadata": {},
   "source": [
    "# Prepare Data"
   ]
  },
  {
   "cell_type": "code",
   "execution_count": 5,
   "metadata": {
    "collapsed": true
   },
   "outputs": [],
   "source": [
    "# Prepare the data by removing items that are rare\n",
    "rare_items = actions.groupby('movieId', gl.aggregate.COUNT).sort('Count')\n",
    "rare_items = rare_items[rare_items['Count'] <= 5]\n",
    "items = items.filter_by(rare_items['movieId'], 'movieId', exclude=True)\n",
    "actions = actions.filter_by(rare_items['movieId'], 'movieId', exclude=True)"
   ]
  },
  {
   "cell_type": "code",
   "execution_count": 6,
   "metadata": {
    "collapsed": true
   },
   "outputs": [],
   "source": [
    "# Extract year, title, and genre\n",
    "items['year'] = items['title'].apply(lambda x: x[-5:-1])\n",
    "items['title'] = items['title'].apply(lambda x: x[:-7])\n",
    "items['genres'] = items['genres'].apply(lambda x: x.split('|'))"
   ]
  },
  {
   "cell_type": "markdown",
   "metadata": {},
   "source": [
    "# Train Recommender Model"
   ]
  },
  {
   "cell_type": "code",
   "execution_count": 7,
   "metadata": {
    "collapsed": false
   },
   "outputs": [
    {
     "data": {
      "text/html": [
       "<pre>Recsys training: model = item_similarity</pre>"
      ],
      "text/plain": [
       "Recsys training: model = item_similarity"
      ]
     },
     "metadata": {},
     "output_type": "display_data"
    },
    {
     "data": {
      "text/html": [
       "<pre>Warning: Ignoring columns rating, timestamp;</pre>"
      ],
      "text/plain": [
       "Warning: Ignoring columns rating, timestamp;"
      ]
     },
     "metadata": {},
     "output_type": "display_data"
    },
    {
     "data": {
      "text/html": [
       "<pre>    To use one of these as a target column, set target = <column_name></pre>"
      ],
      "text/plain": [
       "    To use one of these as a target column, set target = <column_name>"
      ]
     },
     "metadata": {},
     "output_type": "display_data"
    },
    {
     "data": {
      "text/html": [
       "<pre>    and use a method that allows the use of a target.</pre>"
      ],
      "text/plain": [
       "    and use a method that allows the use of a target."
      ]
     },
     "metadata": {},
     "output_type": "display_data"
    },
    {
     "data": {
      "text/html": [
       "<pre>Preparing data set.</pre>"
      ],
      "text/plain": [
       "Preparing data set."
      ]
     },
     "metadata": {},
     "output_type": "display_data"
    },
    {
     "data": {
      "text/html": [
       "<pre>    Data has 960036 observations with 6743 users and 8116 items.</pre>"
      ],
      "text/plain": [
       "    Data has 960036 observations with 6743 users and 8116 items."
      ]
     },
     "metadata": {},
     "output_type": "display_data"
    },
    {
     "data": {
      "text/html": [
       "<pre>    Data prepared in: 0.855222s</pre>"
      ],
      "text/plain": [
       "    Data prepared in: 0.855222s"
      ]
     },
     "metadata": {},
     "output_type": "display_data"
    },
    {
     "data": {
      "text/html": [
       "<pre>Computing item similarity statistics:</pre>"
      ],
      "text/plain": [
       "Computing item similarity statistics:"
      ]
     },
     "metadata": {},
     "output_type": "display_data"
    },
    {
     "data": {
      "text/html": [
       "<pre>Computing most similar items for 8116 items:</pre>"
      ],
      "text/plain": [
       "Computing most similar items for 8116 items:"
      ]
     },
     "metadata": {},
     "output_type": "display_data"
    },
    {
     "data": {
      "text/html": [
       "<pre>+-----------------+-----------------+</pre>"
      ],
      "text/plain": [
       "+-----------------+-----------------+"
      ]
     },
     "metadata": {},
     "output_type": "display_data"
    },
    {
     "data": {
      "text/html": [
       "<pre>| Number of items | Elapsed Time    |</pre>"
      ],
      "text/plain": [
       "| Number of items | Elapsed Time    |"
      ]
     },
     "metadata": {},
     "output_type": "display_data"
    },
    {
     "data": {
      "text/html": [
       "<pre>+-----------------+-----------------+</pre>"
      ],
      "text/plain": [
       "+-----------------+-----------------+"
      ]
     },
     "metadata": {},
     "output_type": "display_data"
    },
    {
     "data": {
      "text/html": [
       "<pre>| 1000            | 3.54432         |</pre>"
      ],
      "text/plain": [
       "| 1000            | 3.54432         |"
      ]
     },
     "metadata": {},
     "output_type": "display_data"
    },
    {
     "data": {
      "text/html": [
       "<pre>| 2000            | 3.65458         |</pre>"
      ],
      "text/plain": [
       "| 2000            | 3.65458         |"
      ]
     },
     "metadata": {},
     "output_type": "display_data"
    },
    {
     "data": {
      "text/html": [
       "<pre>| 3000            | 3.76694         |</pre>"
      ],
      "text/plain": [
       "| 3000            | 3.76694         |"
      ]
     },
     "metadata": {},
     "output_type": "display_data"
    },
    {
     "data": {
      "text/html": [
       "<pre>| 4000            | 3.8814          |</pre>"
      ],
      "text/plain": [
       "| 4000            | 3.8814          |"
      ]
     },
     "metadata": {},
     "output_type": "display_data"
    },
    {
     "data": {
      "text/html": [
       "<pre>| 5000            | 3.99206         |</pre>"
      ],
      "text/plain": [
       "| 5000            | 3.99206         |"
      ]
     },
     "metadata": {},
     "output_type": "display_data"
    },
    {
     "data": {
      "text/html": [
       "<pre>| 6000            | 4.09878         |</pre>"
      ],
      "text/plain": [
       "| 6000            | 4.09878         |"
      ]
     },
     "metadata": {},
     "output_type": "display_data"
    },
    {
     "data": {
      "text/html": [
       "<pre>| 7000            | 4.21056         |</pre>"
      ],
      "text/plain": [
       "| 7000            | 4.21056         |"
      ]
     },
     "metadata": {},
     "output_type": "display_data"
    },
    {
     "data": {
      "text/html": [
       "<pre>| 8000            | 4.32844         |</pre>"
      ],
      "text/plain": [
       "| 8000            | 4.32844         |"
      ]
     },
     "metadata": {},
     "output_type": "display_data"
    },
    {
     "data": {
      "text/html": [
       "<pre>+-----------------+-----------------+</pre>"
      ],
      "text/plain": [
       "+-----------------+-----------------+"
      ]
     },
     "metadata": {},
     "output_type": "display_data"
    },
    {
     "data": {
      "text/html": [
       "<pre>Finished training in 5.01488s</pre>"
      ],
      "text/plain": [
       "Finished training in 5.01488s"
      ]
     },
     "metadata": {},
     "output_type": "display_data"
    }
   ],
   "source": [
    "train, valid = gl.recommender.util.random_split_by_user(actions, 'userId', 'movieId')\n",
    "model = gl.recommender.create(train, 'userId', 'movieId')"
   ]
  },
  {
   "cell_type": "markdown",
   "metadata": {},
   "source": [
    "# Explore the Model"
   ]
  },
  {
   "cell_type": "code",
   "execution_count": 8,
   "metadata": {
    "collapsed": false,
    "scrolled": false
   },
   "outputs": [
    {
     "data": {
      "text/html": [
       "<pre>Tokenizing...</pre>"
      ],
      "text/plain": [
       "Tokenizing..."
      ]
     },
     "metadata": {},
     "output_type": "display_data"
    },
    {
     "data": {
      "text/html": [
       "<pre>TF-IDF transform...</pre>"
      ],
      "text/plain": [
       "TF-IDF transform..."
      ]
     },
     "metadata": {},
     "output_type": "display_data"
    },
    {
     "data": {
      "text/html": [
       "<pre>Creating inverted index...</pre>"
      ],
      "text/plain": [
       "Creating inverted index..."
      ]
     },
     "metadata": {},
     "output_type": "display_data"
    },
    {
     "data": {
      "text/html": [
       "<pre>Creating query expansion model...</pre>"
      ],
      "text/plain": [
       "Creating query expansion model..."
      ]
     },
     "metadata": {},
     "output_type": "display_data"
    },
    {
     "data": {
      "text/html": [
       "<pre>Saving data for querying...</pre>"
      ],
      "text/plain": [
       "Saving data for querying..."
      ]
     },
     "metadata": {},
     "output_type": "display_data"
    },
    {
     "data": {
      "text/html": [
       "<pre>Tokenizing...</pre>"
      ],
      "text/plain": [
       "Tokenizing..."
      ]
     },
     "metadata": {},
     "output_type": "display_data"
    },
    {
     "data": {
      "text/html": [
       "<pre>TF-IDF transform...</pre>"
      ],
      "text/plain": [
       "TF-IDF transform..."
      ]
     },
     "metadata": {},
     "output_type": "display_data"
    },
    {
     "data": {
      "text/html": [
       "<pre>Creating inverted index...</pre>"
      ],
      "text/plain": [
       "Creating inverted index..."
      ]
     },
     "metadata": {},
     "output_type": "display_data"
    },
    {
     "data": {
      "text/html": [
       "<pre>Creating query expansion model...</pre>"
      ],
      "text/plain": [
       "Creating query expansion model..."
      ]
     },
     "metadata": {},
     "output_type": "display_data"
    },
    {
     "data": {
      "text/html": [
       "<pre>Saving data for querying...</pre>"
      ],
      "text/plain": [
       "Saving data for querying..."
      ]
     },
     "metadata": {},
     "output_type": "display_data"
    },
    {
     "data": {
      "text/plain": [
       "View object\n",
       "\n",
       "URI: \t\thttp://localhost:32212/view/8c0680ed-a838-40c3-88e6-c9dba07bdb81\n",
       "HTML: \t\t\n",
       "<gl-recommender-explore\n",
       "    uri=\"http://localhost:32212/view/1894b4ab-fe20-4b5a-8fe3-919a97aa99d6\"\n",
       "    api_key=\"\"\n",
       "/>\n",
       "        "
      ]
     },
     "execution_count": 8,
     "metadata": {},
     "output_type": "execute_result"
    }
   ],
   "source": [
    "# Interactively explore recommendations\n",
    "v1 = model.views.explore(train, items, item_title_column='title', item_path_column='path')\n",
    "v1.show()"
   ]
  },
  {
   "cell_type": "code",
   "execution_count": 9,
   "metadata": {
    "collapsed": false,
    "scrolled": false
   },
   "outputs": [
    {
     "data": {
      "text/html": [
       "<pre>Recsys training: model = popularity</pre>"
      ],
      "text/plain": [
       "Recsys training: model = popularity"
      ]
     },
     "metadata": {},
     "output_type": "display_data"
    },
    {
     "data": {
      "text/html": [
       "<pre>Warning: Ignoring columns rating, timestamp;</pre>"
      ],
      "text/plain": [
       "Warning: Ignoring columns rating, timestamp;"
      ]
     },
     "metadata": {},
     "output_type": "display_data"
    },
    {
     "data": {
      "text/html": [
       "<pre>    To use one of these as a target column, set target = <column_name></pre>"
      ],
      "text/plain": [
       "    To use one of these as a target column, set target = <column_name>"
      ]
     },
     "metadata": {},
     "output_type": "display_data"
    },
    {
     "data": {
      "text/html": [
       "<pre>    and use a method that allows the use of a target.</pre>"
      ],
      "text/plain": [
       "    and use a method that allows the use of a target."
      ]
     },
     "metadata": {},
     "output_type": "display_data"
    },
    {
     "data": {
      "text/html": [
       "<pre>Preparing data set.</pre>"
      ],
      "text/plain": [
       "Preparing data set."
      ]
     },
     "metadata": {},
     "output_type": "display_data"
    },
    {
     "data": {
      "text/html": [
       "<pre>    Data has 960036 observations with 6743 users and 8116 items.</pre>"
      ],
      "text/plain": [
       "    Data has 960036 observations with 6743 users and 8116 items."
      ]
     },
     "metadata": {},
     "output_type": "display_data"
    },
    {
     "data": {
      "text/html": [
       "<pre>    Data prepared in: 0.938763s</pre>"
      ],
      "text/plain": [
       "    Data prepared in: 0.938763s"
      ]
     },
     "metadata": {},
     "output_type": "display_data"
    },
    {
     "data": {
      "text/html": [
       "<pre>960036 observations to process; with 8116 unique items.</pre>"
      ],
      "text/plain": [
       "960036 observations to process; with 8116 unique items."
      ]
     },
     "metadata": {},
     "output_type": "display_data"
    },
    {
     "data": {
      "text/plain": [
       "View object\n",
       "\n",
       "URI: \t\thttp://localhost:32212/view/89151254-640c-44f2-9d50-8891b716b2a5\n",
       "HTML: \t\t\n",
       "<gl-recommender-performance\n",
       "    uri=\"http://localhost:32212/view/47ec17da-668e-47e3-bb23-2bddeb68c0ec\"\n",
       "    api_key=\"\"\n",
       "/>\n",
       "        "
      ]
     },
     "execution_count": 9,
     "metadata": {},
     "output_type": "execute_result"
    },
    {
     "name": "stderr",
     "output_type": "stream",
     "text": [
      "2016-03-09 12:41:37,642 [WARNING] tornado.access, 1825: 404 GET /favicon.ico (::1) 0.61ms\n",
      "2016-03-09 12:41:37,698 [WARNING] tornado.access, 1825: 404 GET /favicon.ico (::1) 0.74ms\n"
     ]
    },
    {
     "data": {
      "text/html": [
       "<pre>Getting similar items completed in 0.004148</pre>"
      ],
      "text/plain": [
       "Getting similar items completed in 0.004148"
      ]
     },
     "metadata": {},
     "output_type": "display_data"
    }
   ],
   "source": [
    "# Visualize model performance\n",
    "baseline = gl.popularity_recommender.create(train, 'userId', 'movieId')\n",
    "v2 = model.views.performance(train, valid, baseline)\n",
    "v2.show()"
   ]
  }
 ],
 "metadata": {
  "kernelspec": {
   "display_name": "Python 2",
   "language": "python",
   "name": "python2"
  },
  "language_info": {
   "codemirror_mode": {
    "name": "ipython",
    "version": 2
   },
   "file_extension": ".py",
   "mimetype": "text/x-python",
   "name": "python",
   "nbconvert_exporter": "python",
   "pygments_lexer": "ipython2",
   "version": "2.7.10"
  }
 },
 "nbformat": 4,
 "nbformat_minor": 0
}
